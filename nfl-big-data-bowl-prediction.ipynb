{
 "cells": [
  {
   "cell_type": "code",
   "execution_count": 16,
   "metadata": {
    "_cell_guid": "b1076dfc-b9ad-4769-8c92-a6c4dae69d19",
    "_uuid": "8f2839f25d086af736a60e9eeb907d3b93b6e0e5",
    "execution": {
     "iopub.execute_input": "2025-09-29T19:26:56.842377Z",
     "iopub.status.busy": "2025-09-29T19:26:56.842116Z",
     "iopub.status.idle": "2025-09-29T19:27:02.031379Z",
     "shell.execute_reply": "2025-09-29T19:27:02.030812Z",
     "shell.execute_reply.started": "2025-09-29T19:26:56.842355Z"
    },
    "trusted": true
   },
   "outputs": [],
   "source": [
    "import pandas as pd\n",
    "import numpy as np\n",
    "import matplotlib.pyplot as plt\n",
    "import seaborn as sns\n",
    "import os\n",
    "from pathlib import Path\n",
    "\n",
    "import warnings\n",
    "warnings.filterwarnings('ignore')\n",
    "\n",
    "import torch\n",
    "import torch.nn as nn\n",
    "import torch.nn.functional as F\n",
    "from torch.utils.data import Dataset, DataLoader\n",
    "from torch.nn.utils.rnn import pad_sequence, pack_padded_sequence, pad_packed_sequence\n",
    "from sklearn.preprocessing import StandardScaler\n",
    "from sklearn.model_selection import train_test_split\n",
    "\n",
    "from tqdm import tqdm"
   ]
  },
  {
   "cell_type": "code",
   "execution_count": 17,
   "metadata": {
    "execution": {
     "iopub.execute_input": "2025-09-29T19:27:02.033125Z",
     "iopub.status.busy": "2025-09-29T19:27:02.032632Z",
     "iopub.status.idle": "2025-09-29T19:27:02.037899Z",
     "shell.execute_reply": "2025-09-29T19:27:02.037368Z",
     "shell.execute_reply.started": "2025-09-29T19:27:02.033098Z"
    },
    "trusted": true
   },
   "outputs": [
    {
     "name": "stdout",
     "output_type": "stream",
     "text": [
      "Data path: data\n",
      "Train path: data\\train\n"
     ]
    }
   ],
   "source": [
    "data_path = Path('data')\n",
    "train_path = data_path / 'train'\n",
    "\n",
    "print(f\"Data path: {data_path}\")\n",
    "print(f\"Train path: {train_path}\")"
   ]
  },
  {
   "cell_type": "code",
   "execution_count": 33,
   "metadata": {
    "execution": {
     "iopub.execute_input": "2025-09-29T19:27:02.038971Z",
     "iopub.status.busy": "2025-09-29T19:27:02.038706Z",
     "iopub.status.idle": "2025-09-29T19:27:02.054600Z",
     "shell.execute_reply": "2025-09-29T19:27:02.053888Z",
     "shell.execute_reply.started": "2025-09-29T19:27:02.038947Z"
    },
    "trusted": true
   },
   "outputs": [],
   "source": [
    "def load_all_weeks_data(data_type='input'):\n",
    "    weeks=range(1, 19)\n",
    "    dfs = []\n",
    "    \n",
    "    for week in weeks:\n",
    "        week_num = week\n",
    "        \n",
    "        filename = f\"{data_type}_2023_w{week_num:02d}.csv\"\n",
    "        filepath = train_path / filename\n",
    "        \n",
    "        df = pd.read_csv(filepath)\n",
    "        print(f\"Loaded {filename}: {df.shape[0]:,} rows, {df.shape[1]} columns\")\n",
    "        \n",
    "        if df is not None:\n",
    "            df['week'] = week\n",
    "            dfs.append(df)\n",
    "    \n",
    "    if dfs:\n",
    "        combined_df = pd.concat(dfs, ignore_index=True)\n",
    "        print(f\"\\nCombined {data_type} data: {combined_df.shape[0]:,} rows, {combined_df.shape[1]} columns\")\n",
    "        return combined_df\n",
    "    return None"
   ]
  },
  {
   "cell_type": "code",
   "execution_count": 34,
   "metadata": {
    "execution": {
     "iopub.execute_input": "2025-09-29T19:27:02.056671Z",
     "iopub.status.busy": "2025-09-29T19:27:02.056380Z",
     "iopub.status.idle": "2025-09-29T19:27:18.856742Z",
     "shell.execute_reply": "2025-09-29T19:27:18.855895Z",
     "shell.execute_reply.started": "2025-09-29T19:27:02.056650Z"
    },
    "trusted": true
   },
   "outputs": [
    {
     "name": "stdout",
     "output_type": "stream",
     "text": [
      "Loaded input_2023_w01.csv: 285,714 rows, 23 columns\n",
      "Loaded input_2023_w02.csv: 288,586 rows, 23 columns\n",
      "Loaded input_2023_w03.csv: 297,757 rows, 23 columns\n",
      "Loaded input_2023_w04.csv: 272,475 rows, 23 columns\n",
      "Loaded input_2023_w05.csv: 254,779 rows, 23 columns\n",
      "Loaded input_2023_w06.csv: 270,676 rows, 23 columns\n",
      "Loaded input_2023_w07.csv: 233,597 rows, 23 columns\n",
      "Loaded input_2023_w08.csv: 281,011 rows, 23 columns\n",
      "Loaded input_2023_w09.csv: 252,796 rows, 23 columns\n",
      "Loaded input_2023_w10.csv: 260,372 rows, 23 columns\n",
      "Loaded input_2023_w11.csv: 243,413 rows, 23 columns\n",
      "Loaded input_2023_w12.csv: 294,940 rows, 23 columns\n",
      "Loaded input_2023_w13.csv: 233,755 rows, 23 columns\n",
      "Loaded input_2023_w14.csv: 279,972 rows, 23 columns\n",
      "Loaded input_2023_w15.csv: 281,820 rows, 23 columns\n",
      "Loaded input_2023_w16.csv: 316,417 rows, 23 columns\n",
      "Loaded input_2023_w17.csv: 277,582 rows, 23 columns\n",
      "Loaded input_2023_w18.csv: 254,917 rows, 23 columns\n",
      "\n",
      "Combined input data: 4,880,579 rows, 24 columns\n"
     ]
    }
   ],
   "source": [
    "input_df = load_all_weeks_data('input')"
   ]
  },
  {
   "cell_type": "code",
   "execution_count": 20,
   "metadata": {
    "execution": {
     "iopub.execute_input": "2025-09-29T19:27:18.857661Z",
     "iopub.status.busy": "2025-09-29T19:27:18.857441Z",
     "iopub.status.idle": "2025-09-29T19:27:19.307949Z",
     "shell.execute_reply": "2025-09-29T19:27:19.307212Z",
     "shell.execute_reply.started": "2025-09-29T19:27:18.857644Z"
    },
    "trusted": true
   },
   "outputs": [
    {
     "name": "stdout",
     "output_type": "stream",
     "text": [
      "Loaded output_2023_w01.csv: 32,088 rows, 6 columns\n",
      "Loaded output_2023_w02.csv: 32,180 rows, 6 columns\n",
      "Loaded output_2023_w03.csv: 36,080 rows, 6 columns\n",
      "Loaded output_2023_w04.csv: 30,147 rows, 6 columns\n",
      "Loaded output_2023_w05.csv: 29,319 rows, 6 columns\n",
      "Loaded output_2023_w06.csv: 31,162 rows, 6 columns\n",
      "Loaded output_2023_w07.csv: 27,443 rows, 6 columns\n",
      "Loaded output_2023_w08.csv: 33,017 rows, 6 columns\n",
      "Loaded output_2023_w09.csv: 28,291 rows, 6 columns\n",
      "Loaded output_2023_w10.csv: 29,008 rows, 6 columns\n",
      "Loaded output_2023_w11.csv: 27,623 rows, 6 columns\n",
      "Loaded output_2023_w12.csv: 32,156 rows, 6 columns\n",
      "Loaded output_2023_w13.csv: 29,568 rows, 6 columns\n",
      "Loaded output_2023_w14.csv: 32,873 rows, 6 columns\n",
      "Loaded output_2023_w15.csv: 32,715 rows, 6 columns\n",
      "Loaded output_2023_w16.csv: 36,508 rows, 6 columns\n",
      "Loaded output_2023_w17.csv: 33,076 rows, 6 columns\n",
      "Loaded output_2023_w18.csv: 29,682 rows, 6 columns\n",
      "\n",
      "Combined output data: 562,936 rows, 7 columns\n"
     ]
    }
   ],
   "source": [
    "output_df = load_all_weeks_data('output')"
   ]
  },
  {
   "cell_type": "code",
   "execution_count": 21,
   "metadata": {
    "execution": {
     "iopub.execute_input": "2025-09-29T19:27:19.309048Z",
     "iopub.status.busy": "2025-09-29T19:27:19.308770Z",
     "iopub.status.idle": "2025-09-29T19:27:19.315838Z",
     "shell.execute_reply": "2025-09-29T19:27:19.315179Z",
     "shell.execute_reply.started": "2025-09-29T19:27:19.309021Z"
    },
    "trusted": true
   },
   "outputs": [
    {
     "data": {
      "text/plain": [
       "Index(['game_id', 'play_id', 'player_to_predict', 'nfl_id', 'frame_id',\n",
       "       'play_direction', 'absolute_yardline_number', 'player_name',\n",
       "       'player_height', 'player_weight', 'player_birth_date',\n",
       "       'player_position', 'player_side', 'player_role', 'x', 'y', 's', 'a',\n",
       "       'dir', 'o', 'num_frames_output', 'ball_land_x', 'ball_land_y', 'week'],\n",
       "      dtype='object')"
      ]
     },
     "execution_count": 21,
     "metadata": {},
     "output_type": "execute_result"
    }
   ],
   "source": [
    "input_df.columns"
   ]
  },
  {
   "cell_type": "code",
   "execution_count": 22,
   "metadata": {
    "execution": {
     "iopub.execute_input": "2025-09-29T19:27:19.316843Z",
     "iopub.status.busy": "2025-09-29T19:27:19.316596Z",
     "iopub.status.idle": "2025-09-29T19:27:19.340929Z",
     "shell.execute_reply": "2025-09-29T19:27:19.340310Z",
     "shell.execute_reply.started": "2025-09-29T19:27:19.316820Z"
    },
    "trusted": true
   },
   "outputs": [
    {
     "data": {
      "application/vnd.microsoft.datawrangler.viewer.v0+json": {
       "columns": [
        {
         "name": "index",
         "rawType": "int64",
         "type": "integer"
        },
        {
         "name": "player_position",
         "rawType": "object",
         "type": "string"
        }
       ],
       "ref": "3e1912d3-79b2-4b76-9d4f-12753aaf17d9",
       "rows": [
        [
         "0",
         "FS"
        ],
        [
         "1",
         "FS"
        ],
        [
         "2",
         "FS"
        ],
        [
         "3",
         "FS"
        ],
        [
         "4",
         "FS"
        ]
       ],
       "shape": {
        "columns": 1,
        "rows": 5
       }
      },
      "text/plain": [
       "0    FS\n",
       "1    FS\n",
       "2    FS\n",
       "3    FS\n",
       "4    FS\n",
       "Name: player_position, dtype: object"
      ]
     },
     "execution_count": 22,
     "metadata": {},
     "output_type": "execute_result"
    }
   ],
   "source": [
    "input_df['player_position'].head()"
   ]
  },
  {
   "cell_type": "code",
   "execution_count": 23,
   "metadata": {
    "execution": {
     "iopub.execute_input": "2025-09-29T19:27:19.341742Z",
     "iopub.status.busy": "2025-09-29T19:27:19.341554Z",
     "iopub.status.idle": "2025-09-29T19:27:19.355905Z",
     "shell.execute_reply": "2025-09-29T19:27:19.355321Z",
     "shell.execute_reply.started": "2025-09-29T19:27:19.341727Z"
    },
    "trusted": true
   },
   "outputs": [
    {
     "data": {
      "text/plain": [
       "Index(['game_id', 'play_id', 'nfl_id', 'frame_id', 'x', 'y', 'week'], dtype='object')"
      ]
     },
     "execution_count": 23,
     "metadata": {},
     "output_type": "execute_result"
    }
   ],
   "source": [
    "output_df.columns"
   ]
  },
  {
   "cell_type": "code",
   "execution_count": 24,
   "metadata": {
    "execution": {
     "iopub.execute_input": "2025-09-29T19:27:19.357418Z",
     "iopub.status.busy": "2025-09-29T19:27:19.356744Z",
     "iopub.status.idle": "2025-09-29T19:27:19.392008Z",
     "shell.execute_reply": "2025-09-29T19:27:19.391342Z",
     "shell.execute_reply.started": "2025-09-29T19:27:19.357392Z"
    },
    "trusted": true
   },
   "outputs": [],
   "source": [
    "def feature_engineering(df):\n",
    "    fe_df = df.copy()\n",
    "\n",
    "    def height_to_inches(height_str):\n",
    "        \"\"\"Convert height from 'ft-in' format to total inches\"\"\"\n",
    "        if pd.isna(height_str) or height_str == '':\n",
    "            return np.nan\n",
    "        try:\n",
    "            parts = height_str.replace(\"'\", \"-\").replace('\"', '').split('-')\n",
    "            if len(parts) == 2:\n",
    "                feet = int(parts[0])\n",
    "                inches = int(parts[1])\n",
    "                return feet * 12 + inches\n",
    "            return np.nan\n",
    "        except:\n",
    "            return np.nan\n",
    "    \n",
    "    # Convert height to inches\n",
    "    fe_df['player_height_inches'] = fe_df['player_height'].apply(height_to_inches)\n",
    "    \n",
    "    temporal_stats = input_df.groupby(['game_id', 'play_id', 'nfl_id']).agg({\n",
    "        'x': ['mean', 'std', 'min', 'max', 'var'],\n",
    "        'y': ['mean', 'std', 'min', 'max', 'var'],\n",
    "        's': ['mean', 'std', 'max', 'min', 'var'],\n",
    "        'a': ['mean', 'std', 'max', 'min', 'var'],\n",
    "        'dir': lambda x: np.std(np.diff(x)) if len(x) > 1 else 0,\n",
    "        'o': lambda x: np.std(np.diff(x)) if len(x) > 1 else 0,\n",
    "    }).reset_index()\n",
    "    \n",
    "    temporal_stats.columns = ['_'.join(col).strip() if col[1] else col[0] \n",
    "                              for col in temporal_stats.columns.values]\n",
    "    temporal_stats = temporal_stats.rename(columns={\n",
    "        'dir_<lambda>': 'dir_change_rate',\n",
    "        'o_<lambda>': 'orientation_change_rate'\n",
    "    })\n",
    "\n",
    "    fe_df = fe_df.merge(temporal_stats, on=['game_id', 'play_id', 'nfl_id'], how='left')\n",
    "\n",
    "    # Get target receiver position\n",
    "    targets = fe_df[fe_df['player_role'] == 'Targeted Receiver'][\n",
    "        ['game_id', 'play_id', 'x', 'y']\n",
    "    ].rename(columns={'x': 'target_x', 'y': 'target_y'})\n",
    "    targets = targets.drop_duplicates(['game_id', 'play_id'])\n",
    "\n",
    "    fe_df = fe_df.merge(targets, on=['game_id', 'play_id'], how='left')\n",
    "    \n",
    "    # Calculate vector components (dx, dy) from player to ball\n",
    "    fe_df['dx_to_ball'] = fe_df['ball_land_x'] - fe_df['x']\n",
    "    fe_df['dy_to_ball'] = fe_df['ball_land_y'] - fe_df['y']\n",
    "\n",
    "    # Calculate Euclidean distance to ball landing position\n",
    "    fe_df['distance_to_ball'] = np.sqrt(\n",
    "        fe_df['dx_to_ball']**2 + fe_df['dy_to_ball']**2\n",
    "    )\n",
    "    \n",
    "    # Calculate angle from player to ball (in radians and degrees)\n",
    "    # atan2 gives angle in range [-π, π] radians\n",
    "    fe_df['angle_to_ball_rad'] = np.arctan2(\n",
    "        fe_df['dy_to_ball'], \n",
    "        fe_df['dx_to_ball']\n",
    "    )\n",
    "    fe_df['angle_to_ball_deg'] = np.degrees(fe_df['angle_to_ball_rad'])\n",
    "\n",
    "    # Normalize angle to [0, 360] degrees for easier interpretation\n",
    "    fe_df['angle_to_ball_360'] = (fe_df['angle_to_ball_deg'] + 360) % 360\n",
    "    \n",
    "    # Calculate unit vector components (normalized direction)\n",
    "    # Handle case where distance is 0 to avoid division by zero\n",
    "    fe_df['unit_dx_to_ball'] = np.where(\n",
    "        fe_df['distance_to_ball'] > 0,\n",
    "        fe_df['dx_to_ball'] / fe_df['distance_to_ball'],\n",
    "        0\n",
    "    )\n",
    "    fe_df['unit_dy_to_ball'] = np.where(\n",
    "        fe_df['distance_to_ball'] > 0,\n",
    "        fe_df['dy_to_ball'] / fe_df['distance_to_ball'],\n",
    "        0\n",
    "    )\n",
    "\n",
    "    # Manhattan distance (L1 norm) - sometimes useful for field-based movement\n",
    "    fe_df['manhattan_distance_to_ball'] = (\n",
    "        np.abs(fe_df['dx_to_ball']) + np.abs(fe_df['dy_to_ball'])\n",
    "    )\n",
    "    \n",
    "    # Squared distance (useful for some models, avoids sqrt computation)\n",
    "    fe_df['squared_distance_to_ball'] = (\n",
    "        fe_df['dx_to_ball']**2 + fe_df['dy_to_ball']**2\n",
    "    )\n",
    "\n",
    "    # Convert player direction to radians\n",
    "    player_dir_rad = np.radians(fe_df['dir'])\n",
    "    \n",
    "    # Calculate player velocity components\n",
    "    fe_df['vx'] = fe_df['s'] * np.cos(player_dir_rad)\n",
    "    fe_df['vy'] = fe_df['s'] * np.sin(player_dir_rad)\n",
    "    \n",
    "    # Project velocity onto direction to ball (dot product with unit vector)\n",
    "    fe_df['velocity_toward_ball'] = (\n",
    "        fe_df['vx'] * fe_df['unit_dx_to_ball'] + \n",
    "        fe_df['vy'] * fe_df['unit_dy_to_ball']\n",
    "    )\n",
    "    \n",
    "    # Calculate perpendicular velocity component\n",
    "    fe_df['velocity_perpendicular_ball'] = (\n",
    "        fe_df['vx'] * (-fe_df['unit_dy_to_ball']) + \n",
    "        fe_df['vy'] * fe_df['unit_dx_to_ball']\n",
    "    )\n",
    "\n",
    "    # Difference between player orientation and angle to ball\n",
    "    fe_df['orientation_diff_to_ball'] = (\n",
    "        fe_df['angle_to_ball_360'] - fe_df['o']\n",
    "    )\n",
    "    \n",
    "    # Normalize to [-180, 180] range\n",
    "    fe_df['orientation_diff_to_ball'] = np.where(\n",
    "        fe_df['orientation_diff_to_ball'] > 180,\n",
    "        fe_df['orientation_diff_to_ball'] - 360,\n",
    "        fe_df['orientation_diff_to_ball']\n",
    "    )\n",
    "    fe_df['orientation_diff_to_ball'] = np.where(\n",
    "        fe_df['orientation_diff_to_ball'] < -180,\n",
    "        fe_df['orientation_diff_to_ball'] + 360,\n",
    "        fe_df['orientation_diff_to_ball']\n",
    "    )\n",
    "    \n",
    "    # Absolute orientation difference\n",
    "    fe_df['abs_orientation_diff_to_ball'] = np.abs(\n",
    "        fe_df['orientation_diff_to_ball']\n",
    "    )\n",
    "    \n",
    "    # Is player facing toward ball? (within 90 degrees)\n",
    "    fe_df['facing_ball'] = (fe_df['abs_orientation_diff_to_ball'] < 90).astype(int)\n",
    "\n",
    "    # Distance from player to sidelines\n",
    "    fe_df['distance_to_left_sideline'] = fe_df['y']\n",
    "    fe_df['distance_to_right_sideline'] = 53.3 - fe_df['y']\n",
    "    fe_df['distance_to_nearest_sideline'] = np.minimum(\n",
    "        fe_df['distance_to_left_sideline'],\n",
    "        fe_df['distance_to_right_sideline']\n",
    "    )\n",
    "    \n",
    "    # Distance from ball to sidelines\n",
    "    fe_df['ball_distance_to_left_sideline'] = fe_df['ball_land_y']\n",
    "    fe_df['ball_distance_to_right_sideline'] = 53.3 - fe_df['ball_land_y']\n",
    "    fe_df['ball_distance_to_nearest_sideline'] = np.minimum(\n",
    "        fe_df['ball_distance_to_left_sideline'],\n",
    "        fe_df['ball_distance_to_right_sideline']\n",
    "    )\n",
    "\n",
    "    # Binned distance categories\n",
    "    fe_df['distance_to_ball_bin'] = pd.cut(\n",
    "        fe_df['distance_to_ball'],\n",
    "        bins=[1, 5, 10, 25, 50, 60, 70, 80, 90, 100, np.inf],\n",
    "        labels=['extremely_close', \n",
    "                'very_close', \n",
    "                'close', \n",
    "                'close_medium', \n",
    "                'medium', \n",
    "                'medium_far', \n",
    "                'far', \n",
    "                'very_far', \n",
    "                'extremely_far', \n",
    "                'maximum_distance']\n",
    "    )\n",
    "    \n",
    "    # Quadrant of ball relative to player\n",
    "    fe_df['ball_quadrant'] = 'unknown'\n",
    "    fe_df.loc[(fe_df['dx_to_ball'] >= 0) & (fe_df['dy_to_ball'] >= 0), 'ball_quadrant'] = 'front_right'\n",
    "    fe_df.loc[(fe_df['dx_to_ball'] >= 0) & (fe_df['dy_to_ball'] < 0), 'ball_quadrant'] = 'front_left'\n",
    "    fe_df.loc[(fe_df['dx_to_ball'] < 0) & (fe_df['dy_to_ball'] >= 0), 'ball_quadrant'] = 'back_right'\n",
    "    fe_df.loc[(fe_df['dx_to_ball'] < 0) & (fe_df['dy_to_ball'] < 0), 'ball_quadrant'] = 'back_left'\n",
    "\n",
    "    # Find the nearest yard line (rounded to nearest integer)\n",
    "    fe_df['nearest_yard_line'] = np.round(fe_df['ball_land_x']).astype(int)\n",
    "    \n",
    "    # Distance to nearest yard line (can be positive or negative)\n",
    "    fe_df['distance_to_nearest_yard'] = fe_df['ball_land_x'] - fe_df['nearest_yard_line']\n",
    "    \n",
    "    # Absolute distance to nearest yard line\n",
    "    fe_df['abs_distance_to_nearest_yard'] = np.abs(fe_df['distance_to_nearest_yard'])\n",
    "    \n",
    "    # Which side of the yard line (behind or past)\n",
    "    fe_df['ball_past_yard_line'] = (fe_df['distance_to_nearest_yard'] > 0).astype(int)\n",
    "\n",
    "    # Find nearest 5-yard line\n",
    "    fe_df['nearest_5_yard_line'] = (np.round(fe_df['ball_land_x'] / 5) * 5).astype(int)\n",
    "    \n",
    "    # Distance to nearest 5-yard line\n",
    "    fe_df['distance_to_nearest_5_yard'] = fe_df['ball_land_x'] - fe_df['nearest_5_yard_line']\n",
    "    fe_df['abs_distance_to_nearest_5_yard'] = np.abs(fe_df['distance_to_nearest_5_yard'])\n",
    "    \n",
    "    # Previous and next 5-yard lines\n",
    "    fe_df['prev_5_yard_line'] = (np.floor(fe_df['ball_land_x'] / 5) * 5).astype(int)\n",
    "    fe_df['next_5_yard_line'] = (np.ceil(fe_df['ball_land_x'] / 5) * 5).astype(int)\n",
    "    \n",
    "    # Position between 5-yard lines (0 to 5)\n",
    "    fe_df['position_within_5_yard_segment'] = fe_df['ball_land_x'] - fe_df['prev_5_yard_line']\n",
    "    \n",
    "    # Percentage through 5-yard segment\n",
    "    fe_df['pct_through_5_yard_segment'] = fe_df['position_within_5_yard_segment'] / 5\n",
    "\n",
    "    # Find nearest 10-yard line (major field markers)\n",
    "    fe_df['nearest_10_yard_line'] = (np.round(fe_df['ball_land_x'] / 10) * 10).astype(int)\n",
    "    \n",
    "    # Distance to nearest 10-yard line\n",
    "    fe_df['distance_to_nearest_10_yard'] = fe_df['ball_land_x'] - fe_df['nearest_10_yard_line']\n",
    "    fe_df['abs_distance_to_nearest_10_yard'] = np.abs(fe_df['distance_to_nearest_10_yard'])\n",
    "    \n",
    "    # Previous and next 10-yard lines\n",
    "    fe_df['prev_10_yard_line'] = (np.floor(fe_df['ball_land_x'] / 10) * 10).astype(int)\n",
    "    fe_df['next_10_yard_line'] = (np.ceil(fe_df['ball_land_x'] / 10) * 10).astype(int)\n",
    "    \n",
    "    # Position within 10-yard segment\n",
    "    fe_df['position_within_10_yard_segment'] = fe_df['ball_land_x'] - fe_df['prev_10_yard_line']\n",
    "    \n",
    "    # Percentage through 10-yard segment\n",
    "    fe_df['pct_through_10_yard_segment'] = fe_df['position_within_10_yard_segment'] / 10\n",
    "\n",
    "    # Determine field zone (red zone, midfield, etc.)\n",
    "    conditions = [\n",
    "        (fe_df['ball_land_x'] <= 20),\n",
    "        (fe_df['ball_land_x'] > 20) & (fe_df['ball_land_x'] <= 40),\n",
    "        (fe_df['ball_land_x'] > 40) & (fe_df['ball_land_x'] <= 60),\n",
    "        (fe_df['ball_land_x'] > 60) & (fe_df['ball_land_x'] <= 80),\n",
    "        (fe_df['ball_land_x'] > 80) & (fe_df['ball_land_x'] <= 100),\n",
    "        (fe_df['ball_land_x'] > 100)\n",
    "    ]\n",
    "    \n",
    "    choices = [\n",
    "        'own_red_zone',      # 0-20 yards\n",
    "        'own_territory',      # 20-40 yards  \n",
    "        'midfield_zone',      # 40-60 yards\n",
    "        'opponent_territory', # 60-80 yards\n",
    "        'opponent_red_zone',  # 80-100 yards\n",
    "        'opponent_end_zone'   # 100+ yards\n",
    "    ]\n",
    "    \n",
    "    fe_df['field_zone'] = np.select(conditions, choices, default='unknown')\n",
    "    \n",
    "    # Distance to key field positions\n",
    "    fe_df['distance_to_midfield'] = np.abs(fe_df['ball_land_x'] - 60)\n",
    "    fe_df['distance_to_own_goal'] = fe_df['ball_land_x']\n",
    "    fe_df['distance_to_opponent_goal'] = 120 - fe_df['ball_land_x']\n",
    "\n",
    "    # Is ball near a major yard line? (within 1 yard of 10-yard markers)\n",
    "    fe_df['near_major_yard_line'] = (fe_df['abs_distance_to_nearest_10_yard'] <= 1).astype(int)\n",
    "    \n",
    "    # Is ball very close to any yard line? (within 0.5 yards)\n",
    "    fe_df['very_close_to_yard_line'] = (fe_df['abs_distance_to_nearest_yard'] <= 0.5).astype(int)\n",
    "    \n",
    "    # Exact yard line indicators\n",
    "    fe_df['on_5_yard_line'] = (fe_df['abs_distance_to_nearest_5_yard'] < 0.1).astype(int)\n",
    "    fe_df['on_10_yard_line'] = (fe_df['abs_distance_to_nearest_10_yard'] < 0.1).astype(int)\n",
    "\n",
    "    # Adjust features based on play direction\n",
    "    # If play direction is 'left', we need to flip the x-axis perspective\n",
    "    fe_df['adjusted_ball_x'] = np.where(\n",
    "        fe_df['play_direction'] == 'left',\n",
    "        120 - fe_df['ball_land_x'],\n",
    "        fe_df['ball_land_x']\n",
    "    )\n",
    "    \n",
    "    # Yards to gain (distance to opponent's end zone)\n",
    "    fe_df['yards_to_endzone'] = np.where(\n",
    "        fe_df['play_direction'] == 'left',\n",
    "        fe_df['ball_land_x'],\n",
    "        120 - fe_df['ball_land_x']\n",
    "    )\n",
    "\n",
    "    # Bin the field into segments\n",
    "    fe_df['field_segment_20'] = pd.cut(\n",
    "        fe_df['ball_land_x'],\n",
    "        bins=[0, 20, 40, 60, 80, 100, 120],\n",
    "        labels=['0-20', '20-40', '40-60', '60-80', '80-100', '100-120'],\n",
    "        include_lowest=True\n",
    "    )\n",
    "    \n",
    "    # Quarter of field\n",
    "    fe_df['field_quarter'] = pd.cut(\n",
    "        fe_df['ball_land_x'],\n",
    "        bins=[0, 30, 60, 90, 120],\n",
    "        labels=['Q1', 'Q2', 'Q3', 'Q4'],\n",
    "        include_lowest=True\n",
    "    )\n",
    "    \n",
    "    # Third of field  \n",
    "    fe_df['field_third'] = pd.cut(\n",
    "        fe_df['ball_land_x'],\n",
    "        bins=[0, 40, 80, 120],\n",
    "        labels=['defensive_third', 'middle_third', 'offensive_third'],\n",
    "        include_lowest=True\n",
    "    )\n",
    "\n",
    "    # Calculate release height (approximation: 95% of player height for QB release point) of ball\n",
    "    # Adjust multiplier based on player role if needed\n",
    "    fe_df['release_height_inches'] = np.where(\n",
    "        fe_df['player_role'] == 'Passer',\n",
    "        fe_df['player_height_inches'] * 0.95,  # QB releases near head height\n",
    "        fe_df['player_height_inches'] * 0.85   # Other players might release lower\n",
    "    )\n",
    "\n",
    "    # Convert to yards for consistency with field coordinates\n",
    "    fe_df['release_height_yards'] = fe_df['release_height_inches'] / 36.0\n",
    "\n",
    "    # Calculate horizontal distance from release to landing\n",
    "    # Assuming ball is released from passer's position\n",
    "    passer_info = fe_df[fe_df['player_role'] == 'Passer'][\n",
    "        ['game_id', 'play_id', 'x', 'y']\n",
    "    ].rename(columns={'x': 'passer_x', 'y': 'passer_y'})\n",
    "    passer_info = passer_info.drop_duplicates(['game_id', 'play_id'])\n",
    "    \n",
    "    fe_df = fe_df.merge(passer_info, on=['game_id', 'play_id'], how='left')\n",
    "\n",
    "    # Horizontal distance from passer to ball landing point\n",
    "    fe_df['pass_horizontal_distance'] = np.sqrt(\n",
    "        (fe_df['ball_land_x'] - fe_df['passer_x'])**2 + \n",
    "        (fe_df['ball_land_y'] - fe_df['passer_y'])**2\n",
    "    )\n",
    "\n",
    "    # Estimate maximum arc height (apex)\n",
    "    # Rule of thumb: apex height = release_height + (horizontal_distance / 4)\n",
    "    fe_df['arc_apex_height_yards'] = (\n",
    "        fe_df['release_height_yards'] + \n",
    "        (fe_df['pass_horizontal_distance'] / 4)  \n",
    "    )\n",
    "\n",
    "    # Calculate arc length (approximate distance ball travels through air)\n",
    "    # Using parabolic arc length approximation\n",
    "    # Arc length ≈ horizontal_distance * (1 + (2/3) * (height/horizontal)^2)\n",
    "    height_ratio = fe_df['arc_apex_height_yards'] / (fe_df['pass_horizontal_distance'] + 1e-6)\n",
    "    fe_df['arc_length_yards'] = fe_df['pass_horizontal_distance'] * (\n",
    "        1 + (2/3) * height_ratio**2\n",
    "    )\n",
    "\n",
    "    # Calculate radius of curvature at apex (for parabolic trajectory)\n",
    "    # R = (horizontal_distance/2)^2 / (2 * apex_height)\n",
    "    fe_df['arc_radius_curvature'] = np.where(\n",
    "        fe_df['arc_apex_height_yards'] > 0,\n",
    "        (fe_df['pass_horizontal_distance'] / 2)**2 / (2 * fe_df['arc_apex_height_yards']),\n",
    "        np.nan\n",
    "    )\n",
    "\n",
    "    # Estimate time of flight (simplified physics model)\n",
    "    # Using kinematic equations with gravity = 32.2 ft/s² = 10.73 yards/s²\n",
    "    g = 10.73  # gravity in yards/s²\n",
    "    \n",
    "    # Time to apex and total flight time (simplified)\n",
    "    fe_df['estimated_flight_time'] = np.sqrt(\n",
    "        2 * fe_df['arc_apex_height_yards'] / g\n",
    "    ) * 2\n",
    "    \n",
    "    # Calculate release and landing angles\n",
    "    # Release angle (angle of initial velocity vector)\n",
    "    fe_df['release_angle_deg'] = np.degrees(np.arctan(\n",
    "        2 * fe_df['arc_apex_height_yards'] / (fe_df['pass_horizontal_distance'] + 1e-6)\n",
    "    ))\n",
    "    \n",
    "    # Arc \"steepness\" metrics\n",
    "    fe_df['arc_steepness_ratio'] = (\n",
    "        fe_df['arc_apex_height_yards'] / (fe_df['pass_horizontal_distance'] + 1e-6)\n",
    "    )\n",
    "\n",
    "    # Categorize arc types\n",
    "    conditions = [\n",
    "        (fe_df['arc_steepness_ratio'] < 0.1),\n",
    "        (fe_df['arc_steepness_ratio'] >= 0.1) & (fe_df['arc_steepness_ratio'] < 0.2),\n",
    "        (fe_df['arc_steepness_ratio'] >= 0.2) & (fe_df['arc_steepness_ratio'] < 0.3),\n",
    "        (fe_df['arc_steepness_ratio'] >= 0.3)\n",
    "    ]\n",
    "    choices = ['line_drive', 'low_arc', 'medium_arc', 'high_arc']\n",
    "    fe_df['arc_type'] = np.select(conditions, choices, default='unknown')\n",
    "\n",
    "    # Player-specific arc interaction features\n",
    "    # Distance from player to arc apex point (horizontal projection)\n",
    "    arc_apex_x = fe_df['passer_x'] + (fe_df['ball_land_x'] - fe_df['passer_x']) * 0.5\n",
    "    arc_apex_y = fe_df['passer_y'] + (fe_df['ball_land_y'] - fe_df['passer_y']) * 0.5\n",
    "    \n",
    "    fe_df['distance_to_arc_apex'] = np.sqrt(\n",
    "        (fe_df['x'] - arc_apex_x)**2 + \n",
    "        (fe_df['y'] - arc_apex_y)**2\n",
    "    )\n",
    "\n",
    "    # Is player under the arc path?\n",
    "    # Check if player is between passer and landing point\n",
    "    dot_product = (\n",
    "        (fe_df['x'] - fe_df['passer_x']) * (fe_df['ball_land_x'] - fe_df['passer_x']) +\n",
    "        (fe_df['y'] - fe_df['passer_y']) * (fe_df['ball_land_y'] - fe_df['passer_y'])\n",
    "    )\n",
    "    \n",
    "    squared_pass_distance = fe_df['pass_horizontal_distance']**2\n",
    "    \n",
    "    # Projection parameter (0 to 1 means between passer and landing)\n",
    "    fe_df['arc_projection_param'] = dot_product / (squared_pass_distance + 1e-6)\n",
    "\n",
    "    # Player is \"under arc\" if projection is between 0 and 1\n",
    "    fe_df['under_arc_path'] = (\n",
    "        (fe_df['arc_projection_param'] >= 0) & \n",
    "        (fe_df['arc_projection_param'] <= 1)\n",
    "    ).astype(int)\n",
    "    \n",
    "    # Distance from player to arc path (perpendicular distance)\n",
    "    # Only meaningful if player is under the arc\n",
    "    closest_point_x = (\n",
    "        fe_df['passer_x'] + \n",
    "        fe_df['arc_projection_param'] * (fe_df['ball_land_x'] - fe_df['passer_x'])\n",
    "    )\n",
    "    closest_point_y = (\n",
    "        fe_df['passer_y'] + \n",
    "        fe_df['arc_projection_param'] * (fe_df['ball_land_y'] - fe_df['passer_y'])\n",
    "    )\n",
    "    \n",
    "    fe_df['perpendicular_distance_to_arc'] = np.sqrt(\n",
    "        (fe_df['x'] - closest_point_x)**2 + \n",
    "        (fe_df['y'] - closest_point_y)**2\n",
    "    )\n",
    "    \n",
    "    # Set to NaN if not under arc\n",
    "    fe_df.loc[fe_df['under_arc_path'] == 0, 'perpendicular_distance_to_arc'] = np.nan\n",
    "\n",
    "    # Ball height at player position (if under arc)\n",
    "    # Using parabolic equation\n",
    "    fe_df['ball_height_at_player'] = np.where(\n",
    "        fe_df['under_arc_path'] == 1,\n",
    "        fe_df['release_height_yards'] + \n",
    "        4 * fe_df['arc_apex_height_yards'] * fe_df['arc_projection_param'] * \n",
    "        (1 - fe_df['arc_projection_param']),\n",
    "        np.nan\n",
    "    )\n",
    "    \n",
    "    # Can player potentially intercept? (considering typical reach)\n",
    "    typical_reach_height = 8 / 36.0  # 8 feet in yards\n",
    "    fe_df['can_reach_ball'] = (\n",
    "        (fe_df['under_arc_path'] == 1) & \n",
    "        (fe_df['ball_height_at_player'] <= fe_df['player_height_inches'] / 36.0 + typical_reach_height)\n",
    "    ).astype(int)\n",
    "\n",
    "    # Pass classification based on distance and arc\n",
    "    conditions = [\n",
    "        (fe_df['pass_horizontal_distance'] < 5),\n",
    "        (fe_df['pass_horizontal_distance'] >= 5) & (fe_df['pass_horizontal_distance'] < 15),\n",
    "        (fe_df['pass_horizontal_distance'] >= 15) & (fe_df['pass_horizontal_distance'] < 25),\n",
    "        (fe_df['pass_horizontal_distance'] >= 25)\n",
    "    ]\n",
    "    choices = ['screen_pass', 'short_pass', 'medium_pass', 'deep_pass']\n",
    "    fe_df['pass_depth_category'] = np.select(conditions, choices, default='unknown')\n",
    "    \n",
    "    # Combined pass type (depth + arc)\n",
    "    fe_df['pass_type_combined'] = (\n",
    "        fe_df['pass_depth_category'] + '_' + fe_df['arc_type']\n",
    "    )\n",
    "    \n",
    "    return fe_df, temporal_stats, targets"
   ]
  },
  {
   "cell_type": "code",
   "execution_count": 25,
   "metadata": {
    "execution": {
     "iopub.execute_input": "2025-09-29T19:27:19.394095Z",
     "iopub.status.busy": "2025-09-29T19:27:19.393891Z",
     "iopub.status.idle": "2025-09-29T19:28:07.094672Z",
     "shell.execute_reply": "2025-09-29T19:28:07.093864Z",
     "shell.execute_reply.started": "2025-09-29T19:27:19.394071Z"
    },
    "trusted": true
   },
   "outputs": [],
   "source": [
    "fe_df, temporal_stats, targets = feature_engineering(input_df)"
   ]
  },
  {
   "cell_type": "code",
   "execution_count": 26,
   "metadata": {
    "execution": {
     "iopub.execute_input": "2025-09-29T19:28:07.095791Z",
     "iopub.status.busy": "2025-09-29T19:28:07.095558Z",
     "iopub.status.idle": "2025-09-29T19:28:07.114824Z",
     "shell.execute_reply": "2025-09-29T19:28:07.114103Z",
     "shell.execute_reply.started": "2025-09-29T19:28:07.095774Z"
    },
    "trusted": true
   },
   "outputs": [
    {
     "data": {
      "application/vnd.microsoft.datawrangler.viewer.v0+json": {
       "columns": [
        {
         "name": "index",
         "rawType": "int64",
         "type": "integer"
        },
        {
         "name": "game_id",
         "rawType": "int64",
         "type": "integer"
        },
        {
         "name": "play_id",
         "rawType": "int64",
         "type": "integer"
        },
        {
         "name": "target_x",
         "rawType": "float64",
         "type": "float"
        },
        {
         "name": "target_y",
         "rawType": "float64",
         "type": "float"
        }
       ],
       "ref": "e9af8e34-d585-4399-9822-d30c901be590",
       "rows": [
        [
         "208",
         "2023090700",
         "101",
         "41.03",
         "12.17"
        ],
        [
         "618",
         "2023090700",
         "194",
         "93.33",
         "27.85"
        ],
        [
         "854",
         "2023090700",
         "219",
         "80.57",
         "10.65"
        ],
        [
         "1381",
         "2023090700",
         "361",
         "20.65",
         "37.9"
        ],
        [
         "1632",
         "2023090700",
         "436",
         "29.46",
         "35.92"
        ],
        [
         "1928",
         "2023090700",
         "461",
         "42.87",
         "16.52"
        ],
        [
         "2191",
         "2023090700",
         "530",
         "85.06",
         "19.29"
        ],
        [
         "2559",
         "2023090700",
         "621",
         "99.15",
         "35.95"
        ],
        [
         "2876",
         "2023090700",
         "713",
         "85.27",
         "14.23"
        ],
        [
         "3241",
         "2023090700",
         "736",
         "85.16",
         "34.3"
        ],
        [
         "3578",
         "2023090700",
         "877",
         "69.98",
         "12.14"
        ],
        [
         "3996",
         "2023090700",
         "902",
         "83.36",
         "33.84"
        ],
        [
         "4484",
         "2023090700",
         "1001",
         "107.49",
         "29.95"
        ],
        [
         "4863",
         "2023090700",
         "1069",
         "86.47",
         "34.43"
        ],
        [
         "5224",
         "2023090700",
         "1154",
         "71.7",
         "32.56"
        ],
        [
         "5447",
         "2023090700",
         "1201",
         "52.96",
         "9.88"
        ],
        [
         "5675",
         "2023090700",
         "1300",
         "41.82",
         "21.34"
        ],
        [
         "5964",
         "2023090700",
         "1422",
         "20.12",
         "22.62"
        ],
        [
         "6261",
         "2023090700",
         "1494",
         "65.03",
         "10.39"
        ],
        [
         "6831",
         "2023090700",
         "1563",
         "27.11",
         "31.77"
        ],
        [
         "7236",
         "2023090700",
         "1588",
         "51.41",
         "38.97"
        ],
        [
         "7530",
         "2023090700",
         "1618",
         "51.83",
         "37.73"
        ],
        [
         "7924",
         "2023090700",
         "1679",
         "44.99",
         "20.59"
        ],
        [
         "8267",
         "2023090700",
         "1711",
         "78.97",
         "44.23"
        ],
        [
         "8593",
         "2023090700",
         "1741",
         "103.62",
         "24.96"
        ],
        [
         "8860",
         "2023090700",
         "1812",
         "86.42",
         "43.81"
        ],
        [
         "9206",
         "2023090700",
         "1837",
         "80.93",
         "35.68"
        ],
        [
         "9597",
         "2023090700",
         "1869",
         "78.22",
         "35.52"
        ],
        [
         "10015",
         "2023090700",
         "1940",
         "70.64",
         "35.58"
        ],
        [
         "10366",
         "2023090700",
         "2118",
         "45.69",
         "37.21"
        ],
        [
         "10788",
         "2023090700",
         "2141",
         "45.99",
         "37.22"
        ],
        [
         "10997",
         "2023090700",
         "2186",
         "104.2",
         "37.51"
        ],
        [
         "11349",
         "2023090700",
         "2261",
         "104.17",
         "36.26"
        ],
        [
         "11689",
         "2023090700",
         "2306",
         "51.6",
         "22.22"
        ],
        [
         "12015",
         "2023090700",
         "2364",
         "55.38",
         "39.78"
        ],
        [
         "12448",
         "2023090700",
         "2435",
         "29.76",
         "27.21"
        ],
        [
         "13010",
         "2023090700",
         "2487",
         "43.34",
         "16.47"
        ],
        [
         "13258",
         "2023090700",
         "2510",
         "43.35",
         "17.97"
        ],
        [
         "13590",
         "2023090700",
         "2613",
         "88.96",
         "18.55"
        ],
        [
         "14065",
         "2023090700",
         "2638",
         "69.93",
         "18.56"
        ],
        [
         "14585",
         "2023090700",
         "2825",
         "27.44",
         "25.82"
        ],
        [
         "15369",
         "2023090700",
         "2906",
         "82.13",
         "31.21"
        ],
        [
         "15647",
         "2023090700",
         "2936",
         "92.46",
         "35.88"
        ],
        [
         "15941",
         "2023090700",
         "2959",
         "91.32",
         "35.82"
        ],
        [
         "16184",
         "2023090700",
         "3032",
         "85.96",
         "38.13"
        ],
        [
         "16552",
         "2023090700",
         "3089",
         "98.37",
         "38.21"
        ],
        [
         "16965",
         "2023090700",
         "3114",
         "79.37",
         "19.21"
        ],
        [
         "17441",
         "2023090700",
         "3185",
         "43.55",
         "30.16"
        ],
        [
         "17838",
         "2023090700",
         "3233",
         "54.91",
         "27.43"
        ],
        [
         "18440",
         "2023090700",
         "3324",
         "35.84",
         "26.3"
        ]
       ],
       "shape": {
        "columns": 4,
        "rows": 14108
       }
      },
      "text/html": [
       "<div>\n",
       "<style scoped>\n",
       "    .dataframe tbody tr th:only-of-type {\n",
       "        vertical-align: middle;\n",
       "    }\n",
       "\n",
       "    .dataframe tbody tr th {\n",
       "        vertical-align: top;\n",
       "    }\n",
       "\n",
       "    .dataframe thead th {\n",
       "        text-align: right;\n",
       "    }\n",
       "</style>\n",
       "<table border=\"1\" class=\"dataframe\">\n",
       "  <thead>\n",
       "    <tr style=\"text-align: right;\">\n",
       "      <th></th>\n",
       "      <th>game_id</th>\n",
       "      <th>play_id</th>\n",
       "      <th>target_x</th>\n",
       "      <th>target_y</th>\n",
       "    </tr>\n",
       "  </thead>\n",
       "  <tbody>\n",
       "    <tr>\n",
       "      <th>208</th>\n",
       "      <td>2023090700</td>\n",
       "      <td>101</td>\n",
       "      <td>41.03</td>\n",
       "      <td>12.17</td>\n",
       "    </tr>\n",
       "    <tr>\n",
       "      <th>618</th>\n",
       "      <td>2023090700</td>\n",
       "      <td>194</td>\n",
       "      <td>93.33</td>\n",
       "      <td>27.85</td>\n",
       "    </tr>\n",
       "    <tr>\n",
       "      <th>854</th>\n",
       "      <td>2023090700</td>\n",
       "      <td>219</td>\n",
       "      <td>80.57</td>\n",
       "      <td>10.65</td>\n",
       "    </tr>\n",
       "    <tr>\n",
       "      <th>1381</th>\n",
       "      <td>2023090700</td>\n",
       "      <td>361</td>\n",
       "      <td>20.65</td>\n",
       "      <td>37.90</td>\n",
       "    </tr>\n",
       "    <tr>\n",
       "      <th>1632</th>\n",
       "      <td>2023090700</td>\n",
       "      <td>436</td>\n",
       "      <td>29.46</td>\n",
       "      <td>35.92</td>\n",
       "    </tr>\n",
       "    <tr>\n",
       "      <th>...</th>\n",
       "      <td>...</td>\n",
       "      <td>...</td>\n",
       "      <td>...</td>\n",
       "      <td>...</td>\n",
       "    </tr>\n",
       "    <tr>\n",
       "      <th>4879360</th>\n",
       "      <td>2024010713</td>\n",
       "      <td>3836</td>\n",
       "      <td>62.39</td>\n",
       "      <td>17.26</td>\n",
       "    </tr>\n",
       "    <tr>\n",
       "      <th>4879611</th>\n",
       "      <td>2024010713</td>\n",
       "      <td>3906</td>\n",
       "      <td>76.65</td>\n",
       "      <td>22.19</td>\n",
       "    </tr>\n",
       "    <tr>\n",
       "      <th>4879846</th>\n",
       "      <td>2024010713</td>\n",
       "      <td>3936</td>\n",
       "      <td>66.81</td>\n",
       "      <td>30.39</td>\n",
       "    </tr>\n",
       "    <tr>\n",
       "      <th>4880200</th>\n",
       "      <td>2024010713</td>\n",
       "      <td>3995</td>\n",
       "      <td>50.28</td>\n",
       "      <td>41.22</td>\n",
       "    </tr>\n",
       "    <tr>\n",
       "      <th>4880552</th>\n",
       "      <td>2024010713</td>\n",
       "      <td>4018</td>\n",
       "      <td>51.23</td>\n",
       "      <td>19.04</td>\n",
       "    </tr>\n",
       "  </tbody>\n",
       "</table>\n",
       "<p>14108 rows × 4 columns</p>\n",
       "</div>"
      ],
      "text/plain": [
       "            game_id  play_id  target_x  target_y\n",
       "208      2023090700      101     41.03     12.17\n",
       "618      2023090700      194     93.33     27.85\n",
       "854      2023090700      219     80.57     10.65\n",
       "1381     2023090700      361     20.65     37.90\n",
       "1632     2023090700      436     29.46     35.92\n",
       "...             ...      ...       ...       ...\n",
       "4879360  2024010713     3836     62.39     17.26\n",
       "4879611  2024010713     3906     76.65     22.19\n",
       "4879846  2024010713     3936     66.81     30.39\n",
       "4880200  2024010713     3995     50.28     41.22\n",
       "4880552  2024010713     4018     51.23     19.04\n",
       "\n",
       "[14108 rows x 4 columns]"
      ]
     },
     "execution_count": 26,
     "metadata": {},
     "output_type": "execute_result"
    }
   ],
   "source": [
    "targets"
   ]
  },
  {
   "cell_type": "code",
   "execution_count": 27,
   "metadata": {
    "execution": {
     "iopub.execute_input": "2025-09-29T19:28:07.116496Z",
     "iopub.status.busy": "2025-09-29T19:28:07.115916Z",
     "iopub.status.idle": "2025-09-29T19:28:07.133559Z",
     "shell.execute_reply": "2025-09-29T19:28:07.133044Z",
     "shell.execute_reply.started": "2025-09-29T19:28:07.116477Z"
    },
    "trusted": true
   },
   "outputs": [
    {
     "data": {
      "application/vnd.microsoft.datawrangler.viewer.v0+json": {
       "columns": [
        {
         "name": "index",
         "rawType": "int64",
         "type": "integer"
        },
        {
         "name": "game_id",
         "rawType": "int64",
         "type": "integer"
        },
        {
         "name": "play_id",
         "rawType": "int64",
         "type": "integer"
        },
        {
         "name": "player_to_predict",
         "rawType": "bool",
         "type": "boolean"
        },
        {
         "name": "nfl_id",
         "rawType": "int64",
         "type": "integer"
        },
        {
         "name": "frame_id",
         "rawType": "int64",
         "type": "integer"
        },
        {
         "name": "play_direction",
         "rawType": "object",
         "type": "string"
        },
        {
         "name": "absolute_yardline_number",
         "rawType": "int64",
         "type": "integer"
        },
        {
         "name": "player_name",
         "rawType": "object",
         "type": "string"
        },
        {
         "name": "player_height",
         "rawType": "object",
         "type": "string"
        },
        {
         "name": "player_weight",
         "rawType": "int64",
         "type": "integer"
        },
        {
         "name": "player_birth_date",
         "rawType": "object",
         "type": "string"
        },
        {
         "name": "player_position",
         "rawType": "object",
         "type": "string"
        },
        {
         "name": "player_side",
         "rawType": "object",
         "type": "string"
        },
        {
         "name": "player_role",
         "rawType": "object",
         "type": "string"
        },
        {
         "name": "x",
         "rawType": "float64",
         "type": "float"
        },
        {
         "name": "y",
         "rawType": "float64",
         "type": "float"
        },
        {
         "name": "s",
         "rawType": "float64",
         "type": "float"
        },
        {
         "name": "a",
         "rawType": "float64",
         "type": "float"
        },
        {
         "name": "dir",
         "rawType": "float64",
         "type": "float"
        },
        {
         "name": "o",
         "rawType": "float64",
         "type": "float"
        },
        {
         "name": "num_frames_output",
         "rawType": "int64",
         "type": "integer"
        },
        {
         "name": "ball_land_x",
         "rawType": "float64",
         "type": "float"
        },
        {
         "name": "ball_land_y",
         "rawType": "float64",
         "type": "float"
        },
        {
         "name": "week",
         "rawType": "int64",
         "type": "integer"
        },
        {
         "name": "player_height_inches",
         "rawType": "int64",
         "type": "integer"
        },
        {
         "name": "x_mean",
         "rawType": "float64",
         "type": "float"
        },
        {
         "name": "x_std",
         "rawType": "float64",
         "type": "float"
        },
        {
         "name": "x_min",
         "rawType": "float64",
         "type": "float"
        },
        {
         "name": "x_max",
         "rawType": "float64",
         "type": "float"
        },
        {
         "name": "x_var",
         "rawType": "float64",
         "type": "float"
        },
        {
         "name": "y_mean",
         "rawType": "float64",
         "type": "float"
        },
        {
         "name": "y_std",
         "rawType": "float64",
         "type": "float"
        },
        {
         "name": "y_min",
         "rawType": "float64",
         "type": "float"
        },
        {
         "name": "y_max",
         "rawType": "float64",
         "type": "float"
        },
        {
         "name": "y_var",
         "rawType": "float64",
         "type": "float"
        },
        {
         "name": "s_mean",
         "rawType": "float64",
         "type": "float"
        },
        {
         "name": "s_std",
         "rawType": "float64",
         "type": "float"
        },
        {
         "name": "s_max",
         "rawType": "float64",
         "type": "float"
        },
        {
         "name": "s_min",
         "rawType": "float64",
         "type": "float"
        },
        {
         "name": "s_var",
         "rawType": "float64",
         "type": "float"
        },
        {
         "name": "a_mean",
         "rawType": "float64",
         "type": "float"
        },
        {
         "name": "a_std",
         "rawType": "float64",
         "type": "float"
        },
        {
         "name": "a_max",
         "rawType": "float64",
         "type": "float"
        },
        {
         "name": "a_min",
         "rawType": "float64",
         "type": "float"
        },
        {
         "name": "a_var",
         "rawType": "float64",
         "type": "float"
        },
        {
         "name": "dir_change_rate",
         "rawType": "float64",
         "type": "float"
        },
        {
         "name": "orientation_change_rate",
         "rawType": "float64",
         "type": "float"
        },
        {
         "name": "target_x",
         "rawType": "float64",
         "type": "float"
        },
        {
         "name": "target_y",
         "rawType": "float64",
         "type": "float"
        },
        {
         "name": "dx_to_ball",
         "rawType": "float64",
         "type": "float"
        },
        {
         "name": "dy_to_ball",
         "rawType": "float64",
         "type": "float"
        },
        {
         "name": "distance_to_ball",
         "rawType": "float64",
         "type": "float"
        },
        {
         "name": "angle_to_ball_rad",
         "rawType": "float64",
         "type": "float"
        },
        {
         "name": "angle_to_ball_deg",
         "rawType": "float64",
         "type": "float"
        },
        {
         "name": "angle_to_ball_360",
         "rawType": "float64",
         "type": "float"
        },
        {
         "name": "unit_dx_to_ball",
         "rawType": "float64",
         "type": "float"
        },
        {
         "name": "unit_dy_to_ball",
         "rawType": "float64",
         "type": "float"
        },
        {
         "name": "manhattan_distance_to_ball",
         "rawType": "float64",
         "type": "float"
        },
        {
         "name": "squared_distance_to_ball",
         "rawType": "float64",
         "type": "float"
        },
        {
         "name": "vx",
         "rawType": "float64",
         "type": "float"
        },
        {
         "name": "vy",
         "rawType": "float64",
         "type": "float"
        },
        {
         "name": "velocity_toward_ball",
         "rawType": "float64",
         "type": "float"
        },
        {
         "name": "velocity_perpendicular_ball",
         "rawType": "float64",
         "type": "float"
        },
        {
         "name": "orientation_diff_to_ball",
         "rawType": "float64",
         "type": "float"
        },
        {
         "name": "abs_orientation_diff_to_ball",
         "rawType": "float64",
         "type": "float"
        },
        {
         "name": "facing_ball",
         "rawType": "int64",
         "type": "integer"
        },
        {
         "name": "distance_to_left_sideline",
         "rawType": "float64",
         "type": "float"
        },
        {
         "name": "distance_to_right_sideline",
         "rawType": "float64",
         "type": "float"
        },
        {
         "name": "distance_to_nearest_sideline",
         "rawType": "float64",
         "type": "float"
        },
        {
         "name": "ball_distance_to_left_sideline",
         "rawType": "float64",
         "type": "float"
        },
        {
         "name": "ball_distance_to_right_sideline",
         "rawType": "float64",
         "type": "float"
        },
        {
         "name": "ball_distance_to_nearest_sideline",
         "rawType": "float64",
         "type": "float"
        },
        {
         "name": "distance_to_ball_bin",
         "rawType": "category",
         "type": "unknown"
        },
        {
         "name": "ball_quadrant",
         "rawType": "object",
         "type": "string"
        },
        {
         "name": "nearest_yard_line",
         "rawType": "int64",
         "type": "integer"
        },
        {
         "name": "distance_to_nearest_yard",
         "rawType": "float64",
         "type": "float"
        },
        {
         "name": "abs_distance_to_nearest_yard",
         "rawType": "float64",
         "type": "float"
        },
        {
         "name": "ball_past_yard_line",
         "rawType": "int64",
         "type": "integer"
        },
        {
         "name": "nearest_5_yard_line",
         "rawType": "int64",
         "type": "integer"
        },
        {
         "name": "distance_to_nearest_5_yard",
         "rawType": "float64",
         "type": "float"
        },
        {
         "name": "abs_distance_to_nearest_5_yard",
         "rawType": "float64",
         "type": "float"
        },
        {
         "name": "prev_5_yard_line",
         "rawType": "int64",
         "type": "integer"
        },
        {
         "name": "next_5_yard_line",
         "rawType": "int64",
         "type": "integer"
        },
        {
         "name": "position_within_5_yard_segment",
         "rawType": "float64",
         "type": "float"
        },
        {
         "name": "pct_through_5_yard_segment",
         "rawType": "float64",
         "type": "float"
        },
        {
         "name": "nearest_10_yard_line",
         "rawType": "int64",
         "type": "integer"
        },
        {
         "name": "distance_to_nearest_10_yard",
         "rawType": "float64",
         "type": "float"
        },
        {
         "name": "abs_distance_to_nearest_10_yard",
         "rawType": "float64",
         "type": "float"
        },
        {
         "name": "prev_10_yard_line",
         "rawType": "int64",
         "type": "integer"
        },
        {
         "name": "next_10_yard_line",
         "rawType": "int64",
         "type": "integer"
        },
        {
         "name": "position_within_10_yard_segment",
         "rawType": "float64",
         "type": "float"
        },
        {
         "name": "pct_through_10_yard_segment",
         "rawType": "float64",
         "type": "float"
        },
        {
         "name": "field_zone",
         "rawType": "object",
         "type": "string"
        },
        {
         "name": "distance_to_midfield",
         "rawType": "float64",
         "type": "float"
        },
        {
         "name": "distance_to_own_goal",
         "rawType": "float64",
         "type": "float"
        },
        {
         "name": "distance_to_opponent_goal",
         "rawType": "float64",
         "type": "float"
        },
        {
         "name": "near_major_yard_line",
         "rawType": "int64",
         "type": "integer"
        },
        {
         "name": "very_close_to_yard_line",
         "rawType": "int64",
         "type": "integer"
        },
        {
         "name": "on_5_yard_line",
         "rawType": "int64",
         "type": "integer"
        },
        {
         "name": "on_10_yard_line",
         "rawType": "int64",
         "type": "integer"
        },
        {
         "name": "adjusted_ball_x",
         "rawType": "float64",
         "type": "float"
        },
        {
         "name": "yards_to_endzone",
         "rawType": "float64",
         "type": "float"
        },
        {
         "name": "field_segment_20",
         "rawType": "category",
         "type": "unknown"
        },
        {
         "name": "field_quarter",
         "rawType": "category",
         "type": "unknown"
        },
        {
         "name": "field_third",
         "rawType": "category",
         "type": "unknown"
        },
        {
         "name": "release_height_inches",
         "rawType": "float64",
         "type": "float"
        },
        {
         "name": "release_height_yards",
         "rawType": "float64",
         "type": "float"
        },
        {
         "name": "passer_x",
         "rawType": "float64",
         "type": "float"
        },
        {
         "name": "passer_y",
         "rawType": "float64",
         "type": "float"
        },
        {
         "name": "pass_horizontal_distance",
         "rawType": "float64",
         "type": "float"
        },
        {
         "name": "arc_apex_height_yards",
         "rawType": "float64",
         "type": "float"
        },
        {
         "name": "arc_length_yards",
         "rawType": "float64",
         "type": "float"
        },
        {
         "name": "arc_radius_curvature",
         "rawType": "float64",
         "type": "float"
        },
        {
         "name": "estimated_flight_time",
         "rawType": "float64",
         "type": "float"
        },
        {
         "name": "release_angle_deg",
         "rawType": "float64",
         "type": "float"
        },
        {
         "name": "arc_steepness_ratio",
         "rawType": "float64",
         "type": "float"
        },
        {
         "name": "arc_type",
         "rawType": "object",
         "type": "string"
        },
        {
         "name": "distance_to_arc_apex",
         "rawType": "float64",
         "type": "float"
        },
        {
         "name": "arc_projection_param",
         "rawType": "float64",
         "type": "float"
        },
        {
         "name": "under_arc_path",
         "rawType": "int64",
         "type": "integer"
        },
        {
         "name": "perpendicular_distance_to_arc",
         "rawType": "float64",
         "type": "float"
        },
        {
         "name": "ball_height_at_player",
         "rawType": "float64",
         "type": "float"
        },
        {
         "name": "can_reach_ball",
         "rawType": "int64",
         "type": "integer"
        },
        {
         "name": "pass_depth_category",
         "rawType": "object",
         "type": "string"
        },
        {
         "name": "pass_type_combined",
         "rawType": "object",
         "type": "string"
        }
       ],
       "ref": "373791e0-fa6d-4f74-9a8c-81b667f95503",
       "rows": [
        [
         "0",
         "2023090700",
         "101",
         "False",
         "54527",
         "1",
         "right",
         "42",
         "Bryan Cook",
         "6-1",
         "210",
         "1999-09-07",
         "FS",
         "Defense",
         "Defensive Coverage",
         "52.33",
         "36.94",
         "0.09",
         "0.39",
         "322.4",
         "238.24",
         "21",
         "63.2599983215332",
         "-0.219999998807907",
         "1",
         "73",
         "54.02076923076923",
         "1.6723275350885634",
         "52.33",
         "57.23",
         "2.79667938461539",
         "36.597692307692306",
         "0.37692766088264645",
         "35.59",
         "36.94",
         "0.14207446153846331",
         "2.0265384615384616",
         "1.3336444572904498",
         "3.68",
         "0.04",
         "1.7786075384615385",
         "1.4615384615384615",
         "0.7347309292942134",
         "3.42",
         "0.39",
         "0.5398295384615384",
         "26.08632516549619",
         "3.452707830095095",
         "41.03",
         "12.17",
         "10.929998321533205",
         "-37.159999998807905",
         "38.73409948895317",
         "-1.2847303572396098",
         "-73.60962728216417",
         "286.3903727178358",
         "0.28218026146833236",
         "-0.9593614022033946",
         "48.08999832034111",
         "1500.330463220122",
         "0.07130606790196715",
         "-0.054913064751114106",
         "0.07280263968377038",
         "0.052912906318544825",
         "48.15037271783581",
         "48.15037271783581",
         "1",
         "36.94",
         "16.36",
         "16.36",
         "-0.219999998807907",
         "53.519999998807904",
         "-0.219999998807907",
         "close_medium",
         "front_left",
         "63",
         "0.2599983215332031",
         "0.2599983215332031",
         "1",
         "65",
         "-1.7400016784667969",
         "1.7400016784667969",
         "60",
         "65",
         "3.259998321533203",
         "0.6519996643066406",
         "60",
         "3.259998321533203",
         "3.259998321533203",
         "60",
         "70",
         "3.259998321533203",
         "0.3259998321533203",
         "opponent_territory",
         "3.259998321533203",
         "63.2599983215332",
         "56.7400016784668",
         "0",
         "1",
         "0",
         "0",
         "63.2599983215332",
         "56.7400016784668",
         "60-80",
         "Q3",
         "middle_third",
         "62.05",
         "1.723611111111111",
         "37.36",
         "30.07",
         "39.85340654176511",
         "11.686962746552389",
         "42.13819811898017",
         "16.987882645682976",
         "2.951861402292269",
         "30.391518142363182",
         "0.29324877011595113",
         "medium_arc",
         "22.107479014221852",
         "0.11309661391410437",
         "1",
         "15.842417078937208",
         "6.412690292427271",
         "0",
         "deep_pass",
         "deep_pass_medium_arc"
        ],
        [
         "1",
         "2023090700",
         "101",
         "False",
         "54527",
         "2",
         "right",
         "42",
         "Bryan Cook",
         "6-1",
         "210",
         "1999-09-07",
         "FS",
         "Defense",
         "Defensive Coverage",
         "52.33",
         "36.94",
         "0.04",
         "0.61",
         "200.89",
         "236.05",
         "21",
         "63.2599983215332",
         "-0.219999998807907",
         "1",
         "73",
         "54.02076923076923",
         "1.6723275350885634",
         "52.33",
         "57.23",
         "2.79667938461539",
         "36.597692307692306",
         "0.37692766088264645",
         "35.59",
         "36.94",
         "0.14207446153846331",
         "2.0265384615384616",
         "1.3336444572904498",
         "3.68",
         "0.04",
         "1.7786075384615385",
         "1.4615384615384615",
         "0.7347309292942134",
         "3.42",
         "0.39",
         "0.5398295384615384",
         "26.08632516549619",
         "3.452707830095095",
         "41.03",
         "12.17",
         "10.929998321533205",
         "-37.159999998807905",
         "38.73409948895317",
         "-1.2847303572396098",
         "-73.60962728216417",
         "286.3903727178358",
         "0.28218026146833236",
         "-0.9593614022033946",
         "48.08999832034111",
         "1500.330463220122",
         "-0.03737066890474067",
         "-0.01426299777789539",
         "0.003138104425039423",
         "-0.039876713764019564",
         "50.340372717835805",
         "50.340372717835805",
         "1",
         "36.94",
         "16.36",
         "16.36",
         "-0.219999998807907",
         "53.519999998807904",
         "-0.219999998807907",
         "close_medium",
         "front_left",
         "63",
         "0.2599983215332031",
         "0.2599983215332031",
         "1",
         "65",
         "-1.7400016784667969",
         "1.7400016784667969",
         "60",
         "65",
         "3.259998321533203",
         "0.6519996643066406",
         "60",
         "3.259998321533203",
         "3.259998321533203",
         "60",
         "70",
         "3.259998321533203",
         "0.3259998321533203",
         "opponent_territory",
         "3.259998321533203",
         "63.2599983215332",
         "56.7400016784668",
         "0",
         "1",
         "0",
         "0",
         "63.2599983215332",
         "56.7400016784668",
         "60-80",
         "Q3",
         "middle_third",
         "62.05",
         "1.723611111111111",
         "37.36",
         "30.07",
         "39.85340654176511",
         "11.686962746552389",
         "42.13819811898017",
         "16.987882645682976",
         "2.951861402292269",
         "30.391518142363182",
         "0.29324877011595113",
         "medium_arc",
         "22.107479014221852",
         "0.11309661391410437",
         "1",
         "15.842417078937208",
         "6.412690292427271",
         "0",
         "deep_pass",
         "deep_pass_medium_arc"
        ],
        [
         "2",
         "2023090700",
         "101",
         "False",
         "54527",
         "3",
         "right",
         "42",
         "Bryan Cook",
         "6-1",
         "210",
         "1999-09-07",
         "FS",
         "Defense",
         "Defensive Coverage",
         "52.33",
         "36.93",
         "0.12",
         "0.73",
         "147.55",
         "240.6",
         "21",
         "63.2599983215332",
         "-0.219999998807907",
         "1",
         "73",
         "54.02076923076923",
         "1.6723275350885634",
         "52.33",
         "57.23",
         "2.79667938461539",
         "36.597692307692306",
         "0.37692766088264645",
         "35.59",
         "36.94",
         "0.14207446153846331",
         "2.0265384615384616",
         "1.3336444572904498",
         "3.68",
         "0.04",
         "1.7786075384615385",
         "1.4615384615384615",
         "0.7347309292942134",
         "3.42",
         "0.39",
         "0.5398295384615384",
         "26.08632516549619",
         "3.452707830095095",
         "41.03",
         "12.17",
         "10.929998321533205",
         "-37.14999999880791",
         "38.724505977741615",
         "-1.2846574885858741",
         "-73.60545221584631",
         "286.3945477841537",
         "0.282250168092929",
         "-0.9593408375606208",
         "48.07999832034111",
         "1499.587363220146",
         "-0.1012632008370603",
         "0.06438760871653171",
         "-0.09035121793253136",
         "-0.07897251052175197",
         "45.79454778415371",
         "45.79454778415371",
         "1",
         "36.93",
         "16.369999999999997",
         "16.369999999999997",
         "-0.219999998807907",
         "53.519999998807904",
         "-0.219999998807907",
         "close_medium",
         "front_left",
         "63",
         "0.2599983215332031",
         "0.2599983215332031",
         "1",
         "65",
         "-1.7400016784667969",
         "1.7400016784667969",
         "60",
         "65",
         "3.259998321533203",
         "0.6519996643066406",
         "60",
         "3.259998321533203",
         "3.259998321533203",
         "60",
         "70",
         "3.259998321533203",
         "0.3259998321533203",
         "opponent_territory",
         "3.259998321533203",
         "63.2599983215332",
         "56.7400016784668",
         "0",
         "1",
         "0",
         "0",
         "63.2599983215332",
         "56.7400016784668",
         "60-80",
         "Q3",
         "middle_third",
         "62.05",
         "1.723611111111111",
         "37.36",
         "30.07",
         "39.85340654176511",
         "11.686962746552389",
         "42.13819811898017",
         "16.987882645682976",
         "2.951861402292269",
         "30.391518142363182",
         "0.29324877011595113",
         "medium_arc",
         "22.097520864664244",
         "0.11328732167810861",
         "1",
         "15.835918262256534",
         "6.419587217448468",
         "0",
         "deep_pass",
         "deep_pass_medium_arc"
        ],
        [
         "3",
         "2023090700",
         "101",
         "False",
         "54527",
         "4",
         "right",
         "42",
         "Bryan Cook",
         "6-1",
         "210",
         "1999-09-07",
         "FS",
         "Defense",
         "Defensive Coverage",
         "52.35",
         "36.92",
         "0.23",
         "0.81",
         "131.4",
         "244.25",
         "21",
         "63.2599983215332",
         "-0.219999998807907",
         "1",
         "73",
         "54.02076923076923",
         "1.6723275350885634",
         "52.33",
         "57.23",
         "2.79667938461539",
         "36.597692307692306",
         "0.37692766088264645",
         "35.59",
         "36.94",
         "0.14207446153846331",
         "2.0265384615384616",
         "1.3336444572904498",
         "3.68",
         "0.04",
         "1.7786075384615385",
         "1.4615384615384615",
         "0.7347309292942134",
         "3.42",
         "0.39",
         "0.5398295384615384",
         "26.08632516549619",
         "3.452707830095095",
         "41.03",
         "12.17",
         "10.909998321533202",
         "-37.13999999880791",
         "38.70927102500522",
         "-1.2850802378426902",
         "-73.62967396405416",
         "286.3703260359458",
         "0.28184458225745496",
         "-0.9594600728806387",
         "48.04999832034111",
         "1498.4076632873089",
         "-0.15210172902443997",
         "0.17252554601500567",
         "-0.20840042123085922",
         "-0.09731014556972176",
         "42.12032603594582",
         "42.12032603594582",
         "1",
         "36.92",
         "16.379999999999995",
         "16.379999999999995",
         "-0.219999998807907",
         "53.519999998807904",
         "-0.219999998807907",
         "close_medium",
         "front_left",
         "63",
         "0.2599983215332031",
         "0.2599983215332031",
         "1",
         "65",
         "-1.7400016784667969",
         "1.7400016784667969",
         "60",
         "65",
         "3.259998321533203",
         "0.6519996643066406",
         "60",
         "3.259998321533203",
         "3.259998321533203",
         "60",
         "70",
         "3.259998321533203",
         "0.3259998321533203",
         "opponent_territory",
         "3.259998321533203",
         "63.2599983215332",
         "56.7400016784668",
         "0",
         "1",
         "0",
         "0",
         "63.2599983215332",
         "56.7400016784668",
         "60-80",
         "Q3",
         "middle_third",
         "62.05",
         "1.723611111111111",
         "37.36",
         "30.07",
         "39.85340654176511",
         "11.686962746552389",
         "42.13819811898017",
         "16.987882645682976",
         "2.951861402292269",
         "30.391518142363182",
         "0.29324877011595113",
         "medium_arc",
         "22.089400815727277",
         "0.11380416551129793",
         "1",
         "15.844620153684499",
         "6.438261721653756",
         "0",
         "deep_pass",
         "deep_pass_medium_arc"
        ],
        [
         "4",
         "2023090700",
         "101",
         "False",
         "54527",
         "5",
         "right",
         "42",
         "Bryan Cook",
         "6-1",
         "210",
         "1999-09-07",
         "FS",
         "Defense",
         "Defensive Coverage",
         "52.37",
         "36.9",
         "0.35",
         "0.82",
         "123.26",
         "244.25",
         "21",
         "63.2599983215332",
         "-0.219999998807907",
         "1",
         "73",
         "54.02076923076923",
         "1.6723275350885634",
         "52.33",
         "57.23",
         "2.79667938461539",
         "36.597692307692306",
         "0.37692766088264645",
         "35.59",
         "36.94",
         "0.14207446153846331",
         "2.0265384615384616",
         "1.3336444572904498",
         "3.68",
         "0.04",
         "1.7786075384615385",
         "1.4615384615384615",
         "0.7347309292942134",
         "3.42",
         "0.39",
         "0.5398295384615384",
         "26.08632516549619",
         "3.452707830095095",
         "41.03",
         "12.17",
         "10.889998321533206",
         "-37.119999998807906",
         "38.68444730579067",
         "-1.2854305675238291",
         "-73.64974637622159",
         "286.3502536237784",
         "0.2815084376274153",
         "-0.9595587525235605",
         "48.00999832034111",
         "1496.486463354495",
         "-0.19195371322304572",
         "0.2926666567613822",
         "-0.3348674419733935",
         "-0.10180273231203531",
         "42.10025362377843",
         "42.10025362377843",
         "1",
         "36.9",
         "16.4",
         "16.4",
         "-0.219999998807907",
         "53.519999998807904",
         "-0.219999998807907",
         "close_medium",
         "front_left",
         "63",
         "0.2599983215332031",
         "0.2599983215332031",
         "1",
         "65",
         "-1.7400016784667969",
         "1.7400016784667969",
         "60",
         "65",
         "3.259998321533203",
         "0.6519996643066406",
         "60",
         "3.259998321533203",
         "3.259998321533203",
         "60",
         "70",
         "3.259998321533203",
         "0.3259998321533203",
         "opponent_territory",
         "3.259998321533203",
         "63.2599983215332",
         "56.7400016784668",
         "0",
         "1",
         "0",
         "0",
         "63.2599983215332",
         "56.7400016784668",
         "60-80",
         "Q3",
         "middle_third",
         "62.05",
         "1.723611111111111",
         "37.36",
         "30.07",
         "39.85340654176511",
         "11.686962746552389",
         "42.13819811898017",
         "16.987882645682976",
         "2.951861402292269",
         "30.391518142363182",
         "0.29324877011595113",
         "medium_arc",
         "22.07134405584413",
         "0.11451171710849152",
         "1",
         "15.846823228431779",
         "6.463786344195899",
         "0",
         "deep_pass",
         "deep_pass_medium_arc"
        ]
       ],
       "shape": {
        "columns": 125,
        "rows": 5
       }
      },
      "text/html": [
       "<div>\n",
       "<style scoped>\n",
       "    .dataframe tbody tr th:only-of-type {\n",
       "        vertical-align: middle;\n",
       "    }\n",
       "\n",
       "    .dataframe tbody tr th {\n",
       "        vertical-align: top;\n",
       "    }\n",
       "\n",
       "    .dataframe thead th {\n",
       "        text-align: right;\n",
       "    }\n",
       "</style>\n",
       "<table border=\"1\" class=\"dataframe\">\n",
       "  <thead>\n",
       "    <tr style=\"text-align: right;\">\n",
       "      <th></th>\n",
       "      <th>game_id</th>\n",
       "      <th>play_id</th>\n",
       "      <th>player_to_predict</th>\n",
       "      <th>nfl_id</th>\n",
       "      <th>frame_id</th>\n",
       "      <th>play_direction</th>\n",
       "      <th>absolute_yardline_number</th>\n",
       "      <th>player_name</th>\n",
       "      <th>player_height</th>\n",
       "      <th>player_weight</th>\n",
       "      <th>...</th>\n",
       "      <th>arc_steepness_ratio</th>\n",
       "      <th>arc_type</th>\n",
       "      <th>distance_to_arc_apex</th>\n",
       "      <th>arc_projection_param</th>\n",
       "      <th>under_arc_path</th>\n",
       "      <th>perpendicular_distance_to_arc</th>\n",
       "      <th>ball_height_at_player</th>\n",
       "      <th>can_reach_ball</th>\n",
       "      <th>pass_depth_category</th>\n",
       "      <th>pass_type_combined</th>\n",
       "    </tr>\n",
       "  </thead>\n",
       "  <tbody>\n",
       "    <tr>\n",
       "      <th>0</th>\n",
       "      <td>2023090700</td>\n",
       "      <td>101</td>\n",
       "      <td>False</td>\n",
       "      <td>54527</td>\n",
       "      <td>1</td>\n",
       "      <td>right</td>\n",
       "      <td>42</td>\n",
       "      <td>Bryan Cook</td>\n",
       "      <td>6-1</td>\n",
       "      <td>210</td>\n",
       "      <td>...</td>\n",
       "      <td>0.293249</td>\n",
       "      <td>medium_arc</td>\n",
       "      <td>22.107479</td>\n",
       "      <td>0.113097</td>\n",
       "      <td>1</td>\n",
       "      <td>15.842417</td>\n",
       "      <td>6.412690</td>\n",
       "      <td>0</td>\n",
       "      <td>deep_pass</td>\n",
       "      <td>deep_pass_medium_arc</td>\n",
       "    </tr>\n",
       "    <tr>\n",
       "      <th>1</th>\n",
       "      <td>2023090700</td>\n",
       "      <td>101</td>\n",
       "      <td>False</td>\n",
       "      <td>54527</td>\n",
       "      <td>2</td>\n",
       "      <td>right</td>\n",
       "      <td>42</td>\n",
       "      <td>Bryan Cook</td>\n",
       "      <td>6-1</td>\n",
       "      <td>210</td>\n",
       "      <td>...</td>\n",
       "      <td>0.293249</td>\n",
       "      <td>medium_arc</td>\n",
       "      <td>22.107479</td>\n",
       "      <td>0.113097</td>\n",
       "      <td>1</td>\n",
       "      <td>15.842417</td>\n",
       "      <td>6.412690</td>\n",
       "      <td>0</td>\n",
       "      <td>deep_pass</td>\n",
       "      <td>deep_pass_medium_arc</td>\n",
       "    </tr>\n",
       "    <tr>\n",
       "      <th>2</th>\n",
       "      <td>2023090700</td>\n",
       "      <td>101</td>\n",
       "      <td>False</td>\n",
       "      <td>54527</td>\n",
       "      <td>3</td>\n",
       "      <td>right</td>\n",
       "      <td>42</td>\n",
       "      <td>Bryan Cook</td>\n",
       "      <td>6-1</td>\n",
       "      <td>210</td>\n",
       "      <td>...</td>\n",
       "      <td>0.293249</td>\n",
       "      <td>medium_arc</td>\n",
       "      <td>22.097521</td>\n",
       "      <td>0.113287</td>\n",
       "      <td>1</td>\n",
       "      <td>15.835918</td>\n",
       "      <td>6.419587</td>\n",
       "      <td>0</td>\n",
       "      <td>deep_pass</td>\n",
       "      <td>deep_pass_medium_arc</td>\n",
       "    </tr>\n",
       "    <tr>\n",
       "      <th>3</th>\n",
       "      <td>2023090700</td>\n",
       "      <td>101</td>\n",
       "      <td>False</td>\n",
       "      <td>54527</td>\n",
       "      <td>4</td>\n",
       "      <td>right</td>\n",
       "      <td>42</td>\n",
       "      <td>Bryan Cook</td>\n",
       "      <td>6-1</td>\n",
       "      <td>210</td>\n",
       "      <td>...</td>\n",
       "      <td>0.293249</td>\n",
       "      <td>medium_arc</td>\n",
       "      <td>22.089401</td>\n",
       "      <td>0.113804</td>\n",
       "      <td>1</td>\n",
       "      <td>15.844620</td>\n",
       "      <td>6.438262</td>\n",
       "      <td>0</td>\n",
       "      <td>deep_pass</td>\n",
       "      <td>deep_pass_medium_arc</td>\n",
       "    </tr>\n",
       "    <tr>\n",
       "      <th>4</th>\n",
       "      <td>2023090700</td>\n",
       "      <td>101</td>\n",
       "      <td>False</td>\n",
       "      <td>54527</td>\n",
       "      <td>5</td>\n",
       "      <td>right</td>\n",
       "      <td>42</td>\n",
       "      <td>Bryan Cook</td>\n",
       "      <td>6-1</td>\n",
       "      <td>210</td>\n",
       "      <td>...</td>\n",
       "      <td>0.293249</td>\n",
       "      <td>medium_arc</td>\n",
       "      <td>22.071344</td>\n",
       "      <td>0.114512</td>\n",
       "      <td>1</td>\n",
       "      <td>15.846823</td>\n",
       "      <td>6.463786</td>\n",
       "      <td>0</td>\n",
       "      <td>deep_pass</td>\n",
       "      <td>deep_pass_medium_arc</td>\n",
       "    </tr>\n",
       "  </tbody>\n",
       "</table>\n",
       "<p>5 rows × 125 columns</p>\n",
       "</div>"
      ],
      "text/plain": [
       "      game_id  play_id  player_to_predict  nfl_id  frame_id play_direction  \\\n",
       "0  2023090700      101              False   54527         1          right   \n",
       "1  2023090700      101              False   54527         2          right   \n",
       "2  2023090700      101              False   54527         3          right   \n",
       "3  2023090700      101              False   54527         4          right   \n",
       "4  2023090700      101              False   54527         5          right   \n",
       "\n",
       "   absolute_yardline_number player_name player_height  player_weight  ...  \\\n",
       "0                        42  Bryan Cook           6-1            210  ...   \n",
       "1                        42  Bryan Cook           6-1            210  ...   \n",
       "2                        42  Bryan Cook           6-1            210  ...   \n",
       "3                        42  Bryan Cook           6-1            210  ...   \n",
       "4                        42  Bryan Cook           6-1            210  ...   \n",
       "\n",
       "  arc_steepness_ratio    arc_type distance_to_arc_apex arc_projection_param  \\\n",
       "0            0.293249  medium_arc            22.107479             0.113097   \n",
       "1            0.293249  medium_arc            22.107479             0.113097   \n",
       "2            0.293249  medium_arc            22.097521             0.113287   \n",
       "3            0.293249  medium_arc            22.089401             0.113804   \n",
       "4            0.293249  medium_arc            22.071344             0.114512   \n",
       "\n",
       "   under_arc_path  perpendicular_distance_to_arc  ball_height_at_player  \\\n",
       "0               1                      15.842417               6.412690   \n",
       "1               1                      15.842417               6.412690   \n",
       "2               1                      15.835918               6.419587   \n",
       "3               1                      15.844620               6.438262   \n",
       "4               1                      15.846823               6.463786   \n",
       "\n",
       "   can_reach_ball  pass_depth_category    pass_type_combined  \n",
       "0               0            deep_pass  deep_pass_medium_arc  \n",
       "1               0            deep_pass  deep_pass_medium_arc  \n",
       "2               0            deep_pass  deep_pass_medium_arc  \n",
       "3               0            deep_pass  deep_pass_medium_arc  \n",
       "4               0            deep_pass  deep_pass_medium_arc  \n",
       "\n",
       "[5 rows x 125 columns]"
      ]
     },
     "execution_count": 27,
     "metadata": {},
     "output_type": "execute_result"
    }
   ],
   "source": [
    "fe_df.head()"
   ]
  },
  {
   "cell_type": "code",
   "execution_count": 28,
   "metadata": {
    "execution": {
     "iopub.execute_input": "2025-09-29T19:28:07.135143Z",
     "iopub.status.busy": "2025-09-29T19:28:07.134403Z",
     "iopub.status.idle": "2025-09-29T19:28:07.144769Z",
     "shell.execute_reply": "2025-09-29T19:28:07.144150Z",
     "shell.execute_reply.started": "2025-09-29T19:28:07.135124Z"
    },
    "scrolled": true,
    "trusted": true
   },
   "outputs": [
    {
     "data": {
      "text/plain": [
       "Index(['game_id', 'play_id', 'player_to_predict', 'nfl_id', 'frame_id',\n",
       "       'play_direction', 'absolute_yardline_number', 'player_name',\n",
       "       'player_height', 'player_weight',\n",
       "       ...\n",
       "       'arc_steepness_ratio', 'arc_type', 'distance_to_arc_apex',\n",
       "       'arc_projection_param', 'under_arc_path',\n",
       "       'perpendicular_distance_to_arc', 'ball_height_at_player',\n",
       "       'can_reach_ball', 'pass_depth_category', 'pass_type_combined'],\n",
       "      dtype='object', length=125)"
      ]
     },
     "execution_count": 28,
     "metadata": {},
     "output_type": "execute_result"
    }
   ],
   "source": [
    "fe_df.columns"
   ]
  },
  {
   "cell_type": "code",
   "execution_count": 29,
   "metadata": {
    "execution": {
     "iopub.execute_input": "2025-09-29T19:28:07.145849Z",
     "iopub.status.busy": "2025-09-29T19:28:07.145666Z",
     "iopub.status.idle": "2025-09-29T19:28:07.159411Z",
     "shell.execute_reply": "2025-09-29T19:28:07.158701Z",
     "shell.execute_reply.started": "2025-09-29T19:28:07.145835Z"
    },
    "trusted": true
   },
   "outputs": [],
   "source": [
    "# Visualization function for the new features\n",
    "def visualize_ball_vectors(fe_df, sample_play=None):\n",
    "    if sample_play is None:\n",
    "        # Get a random play\n",
    "        sample_play = fe_df[['game_id', 'play_id']].drop_duplicates().sample(1).iloc[0]\n",
    "\n",
    "    game_id = sample_play['game_id']\n",
    "    play_id = sample_play['play_id']\n",
    "    \n",
    "    play_data = fe_df[\n",
    "        (fe_df['game_id'] == sample_play['game_id']) & \n",
    "        (fe_df['play_id'] == sample_play['play_id']) &\n",
    "        (fe_df['frame_id'] == fe_df['frame_id'].min())  # First frame only\n",
    "    ]\n",
    "    \n",
    "    fig, ax = plt.subplots(1, 1, figsize=(12, 6))\n",
    "    \n",
    "    # Plot field\n",
    "    ax.set_xlim(0, 120)\n",
    "    ax.set_ylim(0, 53.3)\n",
    "    ax.set_aspect('equal')\n",
    "    ax.set_xlabel('Field Length (yards)')\n",
    "    ax.set_ylabel('Field Width (yards)')\n",
    "    ax.set_title(f'Player Positions and Ball Landing\\nGame: {sample_play[\"game_id\"]}, Play: {sample_play[\"play_id\"]}')\n",
    "    \n",
    "    # Add field lines\n",
    "    for y in [0, 53.3]:\n",
    "        ax.axhline(y, color='white', linewidth=2)\n",
    "    for x in range(0, 121, 10):\n",
    "        ax.axvline(x, color='white', linewidth=0.5, alpha=0.5)\n",
    "    \n",
    "    # Color by team\n",
    "    colors = {'Offense': 'blue', 'Defense': 'red'}\n",
    "    \n",
    "    for side in ['Offense', 'Defense']:\n",
    "        side_data = play_data[play_data['player_side'] == side]\n",
    "        if len(side_data) > 0:\n",
    "            ax.scatter(\n",
    "                side_data['x'], \n",
    "                side_data['y'], \n",
    "                c=colors[side], \n",
    "                s=100, \n",
    "                alpha=0.7, \n",
    "                label=side,\n",
    "                edgecolors='white',\n",
    "                linewidth=1\n",
    "            )\n",
    "            \n",
    "            # Draw vectors to ball for a subset of players\n",
    "            for _, player in side_data.iterrows():\n",
    "                if player['distance_to_ball'] < 30:  # Only show vectors for nearby players\n",
    "                    ax.arrow(\n",
    "                        player['x'], \n",
    "                        player['y'],\n",
    "                        player['dx_to_ball'] * 0.8,  # Scale down arrow length\n",
    "                        player['dy_to_ball'] * 0.8,\n",
    "                        head_width=0.5,\n",
    "                        head_length=0.5,\n",
    "                        fc=colors[side],\n",
    "                        ec=colors[side],\n",
    "                        alpha=0.3,\n",
    "                        length_includes_head=True\n",
    "                    )\n",
    "    \n",
    "    # Plot ball landing position\n",
    "    if len(play_data) > 0:\n",
    "        ball_x = play_data['ball_land_x'].iloc[0]\n",
    "        ball_y = play_data['ball_land_y'].iloc[0]\n",
    "        ax.scatter(\n",
    "            ball_x, \n",
    "            ball_y, \n",
    "            c='yellow', \n",
    "            s=200, \n",
    "            marker='*', \n",
    "            edgecolors='black',\n",
    "            linewidth=2,\n",
    "            label='Ball Landing',\n",
    "            zorder=10\n",
    "        )\n",
    "    \n",
    "    ax.legend(loc='upper right')\n",
    "    ax.grid(True, alpha=0.3)\n",
    "    ax.set_facecolor('#2e7d32')  # Green field\n",
    "    \n",
    "    plt.tight_layout()\n",
    "    plt.savefig(f'game_{game_id}_play_{play_id}_ball_vector.png')\n",
    "    plt.show()\n",
    "    \n",
    "    return fig"
   ]
  },
  {
   "cell_type": "code",
   "execution_count": 30,
   "metadata": {
    "execution": {
     "iopub.execute_input": "2025-09-29T19:28:07.160616Z",
     "iopub.status.busy": "2025-09-29T19:28:07.160187Z",
     "iopub.status.idle": "2025-09-29T19:28:08.081245Z",
     "shell.execute_reply": "2025-09-29T19:28:08.080609Z",
     "shell.execute_reply.started": "2025-09-29T19:28:07.160598Z"
    },
    "trusted": true
   },
   "outputs": [
    {
     "data": {
      "image/png": "[encoded data removed]",
      "text/plain": [
       "<Figure size 1200x600 with 1 Axes>"
      ]
     },
     "metadata": {},
     "output_type": "display_data"
    },
    {
     "data": {
      "image/png": "[encoded data removed]",
      "text/plain": [
       "<Figure size 1200x600 with 1 Axes>"
      ]
     },
     "execution_count": 30,
     "metadata": {},
     "output_type": "execute_result"
    }
   ],
   "source": [
    "visualize_ball_vectors(fe_df)"
   ]
  }
 ],
 "metadata": {
  "kaggle": {
   "accelerator": "gpu",
   "dataSources": [
    {
     "databundleVersionId": 13825858,
     "sourceId": 114239,
     "sourceType": "competition"
    }
   ],
   "dockerImageVersionId": 31090,
   "isGpuEnabled": true,
   "isInternetEnabled": false,
   "language": "python",
   "sourceType": "notebook"
  },
  "kernelspec": {
   "display_name": ".venv",
   "language": "python",
   "name": "python3"
  },
  "language_info": {
   "codemirror_mode": {
    "name": "ipython",
    "version": 3
   },
   "file_extension": ".py",
   "mimetype": "text/x-python",
   "name": "python",
   "nbconvert_exporter": "python",
   "pygments_lexer": "ipython3",
   "version": "3.10.11"
  }
 },
 "nbformat": 4,
 "nbformat_minor": 4
}
